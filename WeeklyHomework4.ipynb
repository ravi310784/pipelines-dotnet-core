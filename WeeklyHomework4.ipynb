{
  "nbformat": 4,
  "nbformat_minor": 0,
  "metadata": {
    "colab": {
      "provenance": [],
      "authorship_tag": "ABX9TyP2qgxba0fTJ74fuIjaNJ5e",
      "include_colab_link": true
    },
    "kernelspec": {
      "name": "python3",
      "display_name": "Python 3"
    },
    "language_info": {
      "name": "python"
    }
  },
  "cells": [
    {
      "cell_type": "markdown",
      "metadata": {
        "id": "view-in-github",
        "colab_type": "text"
      },
      "source": [
        "<a href=\"https://colab.research.google.com/github/ravi310784/pipelines-dotnet-core/blob/master/WeeklyHomework4.ipynb\" target=\"_parent\"><img src=\"https://colab.research.google.com/assets/colab-badge.svg\" alt=\"Open In Colab\"/></a>"
      ]
    },
    {
      "cell_type": "markdown",
      "source": [
        "Given a string s, find the length of the longest  substring  without repeating characters."
      ],
      "metadata": {
        "id": "EVJM9YLtmHaD"
      }
    },
    {
      "cell_type": "code",
      "execution_count": 4,
      "metadata": {
        "colab": {
          "base_uri": "https://localhost:8080/"
        },
        "id": "HTaFmN5jl5Xe",
        "outputId": "eda16ebc-1d6b-4bca-984c-fe40e71dccf4"
      },
      "outputs": [
        {
          "output_type": "stream",
          "name": "stdout",
          "text": [
            "Please enter the string: pwwkew\n",
            "0\n",
            "1\n",
            "2\n",
            "2\n",
            "3\n",
            "4\n",
            "5\n",
            "3\n",
            "Input String: pwwkew\n",
            "Longest Substring without Repeating Characters: wke\n",
            "Length of the Longest Substring: 3\n"
          ]
        }
      ],
      "source": [
        "s= input(\"Please enter the string: \") # input string\n",
        "def longest_unique_substring(s):\n",
        "    max_length = 0\n",
        "    char_index = {}\n",
        "    start = 0\n",
        "    longest_substring = \"\" # declare variable\n",
        "\n",
        "    for end in range(len(s)):\n",
        "        #print(end)\n",
        "        if s[end] in char_index:\n",
        "            start = max(start, char_index[s[end]] + 1)\n",
        "           # print(start)\n",
        "        char_index[s[end]] = end\n",
        "        if end - start + 1 > max_length:\n",
        "            max_length = end - start + 1\n",
        "            longest_substring = s[start:end+1]\n",
        "\n",
        "    return max_length, longest_substring\n",
        "\n",
        "\n",
        "max_length, longest_substring = longest_unique_substring(s)\n",
        "print(f\"Input String: {s}\")\n",
        "print(f\"Longest Substring without Repeating Characters: {longest_substring}\")\n",
        "print(f\"Length of the Longest Substring: {max_length}\")"
      ]
    },
    {
      "cell_type": "markdown",
      "source": [
        "Implement a currency converter program using all the concepts you have learnt in class until now – methods, user input, loops, conditional statements, string manipulations etc. You will be converting from USD to other currencies. Try to include as many currency conversions as possible.  Add at least 10 conversions. No GUI necessary. Implement only functionality."
      ],
      "metadata": {
        "id": "Sispc2AlsJR0"
      }
    },
    {
      "cell_type": "code",
      "source": [
        "currencyTo = input(\"Please provide currency name to convert from USD: \") # take input currency to convery\n",
        "quantity = input(\"Please provide quantity to convert: \") # take input quantity to convert\n",
        "# declare currency and it's value as compare to USD in dictionary\n",
        "USDtoOtherCurrencyStandardValues={\"INR(Indian Rupees)\":83.522990,\"EUR(Euro)\":0.936250,\"AUD(Australian Doller)\":1.551581,\"CAD(Canadian Doller)\":1.375231,\"BRL(Brazilian Real)\":5.233776,\n",
        "                                  \"CHF(Swiss Franc)\":0.909712\t,\"ILS(Israeli Shekel)\":3.802647,\"JPY(Japanese Yen)\":154.279805,\"KWD(Kuwaiti Dinar)\":0.308142,\"PKR(Pakistani Rupee)\":278.485086}\n",
        "def CurrencyConversion(currencyTo, quantity): #declare function and pass input\n",
        "  if(currencyTo==\"\" or quantity==\"\"): # validdate input is empty or not\n",
        "    print(\"Currency to convert and quantity shouldn't be empty\")\n",
        "  else:\n",
        "      match= False\n",
        "      for key in USDtoOtherCurrencyStandardValues.keys(): # loop in ket to compare and match\n",
        "        if(currencyTo.upper() in key.upper()):\n",
        "          match = True\n",
        "          #print(key.upper())\n",
        "          currency_value = USDtoOtherCurrencyStandardValues.get(key) # get value of matched key\n",
        "          print(\"1 \"+ key+\" value from USD: \"+str(currency_value))\n",
        "          print(\"Total \"+key+\" from \" +str(quantity)+\" USD - \"+ str(round(currency_value*int(quantity),2))) # calculate the total vlaue\n",
        "          break;\n",
        "      if(match==False):\n",
        "        print(\"Provided currency is not matched in program\")\n",
        "\n",
        "\n",
        "\n",
        "\n",
        "CurrencyConversion(currencyTo, quantity) #call function\n",
        "\n",
        "\n"
      ],
      "metadata": {
        "colab": {
          "base_uri": "https://localhost:8080/"
        },
        "id": "1LGFAimtsK4x",
        "outputId": "9e208de1-c841-4309-d9b0-07ac436c7565"
      },
      "execution_count": 34,
      "outputs": [
        {
          "output_type": "stream",
          "name": "stdout",
          "text": [
            "Please provide currency name to convert from USD: aud\n",
            "Please provide quantity to convert: 2\n",
            "1 AUD(Australian Doller) value from USD: 1.551581\n",
            "Total AUD(Australian Doller) from 2 USD - 3.1\n"
          ]
        }
      ]
    },
    {
      "cell_type": "markdown",
      "source": [
        "**Full program as per requirment:** Please do evaluation on this"
      ],
      "metadata": {
        "id": "v4ZqlJf7bq-L"
      }
    },
    {
      "cell_type": "code",
      "source": [
        "def AskFun():\n",
        "  print(\"see the options to convert: \")\n",
        "  options= {1:\"INR(Indian Rupees)\",2:\"EUR(Euro)\",3:\"AUD(Australian Doller)\",4:\"CAD(Canadian Doller)\",5:\"BRL(Brazilian Real)\",6:\"CHF(Swiss Franc)\",7:\"ILS(Israeli Shekel)\",8:\"JPY(Japanese Yen)\",\n",
        "          9:\"KWD(Kuwaiti Dinar)\",10:\"PKR(Pakistani Rupee)\"}\n",
        "  USDtoOtherCurrencyStandardValues={\"INR(Indian Rupees)\":83.522990,\"EUR(Euro)\":0.936250,\"AUD(Australian Doller)\":1.551581,\"CAD(Canadian Doller)\":1.375231,\"BRL(Brazilian Real)\":5.233776,\n",
        "                                  \"CHF(Swiss Franc)\":0.909712\t,\"ILS(Israeli Shekel)\":3.802647,\"JPY(Japanese Yen)\":154.279805,\"KWD(Kuwaiti Dinar)\":0.308142,\"PKR(Pakistani Rupee)\":278.485086}\n",
        "  print(options)\n",
        "  currencyTo = input(\"select the options to convert: \") # take input currency to convery\n",
        "  quantity = input(\"Enter USD value: \") # take input quantity to convert\n",
        "  CurrencyConversion(currencyTo, quantity,options,USDtoOtherCurrencyStandardValues)\n",
        "\n",
        "\n",
        "def CurrencyConversion(currencyTo, quantity,options,USDtoOtherCurrencyStandardValues): #declare function and pass input\n",
        " if(currencyTo==\"\" or quantity==\"\"): # validdate input is empty or not\n",
        "    print(\"Currency to convert and quantity shouldn't be empty\")\n",
        " else:\n",
        "  match= False\n",
        "  for key in USDtoOtherCurrencyStandardValues.keys(): # loop in ket to compare and match\n",
        "        currencyLooking = options.get(int(currencyTo))\n",
        "        print(currencyLooking)\n",
        "        if(currencyLooking.upper() in key.upper()):\n",
        "          match = True\n",
        "          #print(key.upper())\n",
        "          currency_value = USDtoOtherCurrencyStandardValues.get(key) # get value of matched key\n",
        "          print(\"1 \"+ key+\" value from USD: \"+str(currency_value))\n",
        "          #print(\"Total \"+key+\" from \" +str(quantity)+\" USD - \"+ str(round(currency_value*int(quantity),2))) # calculate the total vlaue\n",
        "          print(str(quantity)+\" USD converted to \"+key+\" is \"+str(round(currency_value*int(quantity),2)))\n",
        "          ask = input(\"Do you want to convert more?\")\n",
        "          if(ask.upper()==\"YES\"):\n",
        "            askoptions = input(\"Do you want to see the options?\")\n",
        "            if(askoptions.upper()==\"YES\"):\n",
        "              AskFun()\n",
        "          break;\n",
        "  if(match==False):\n",
        "        print(\"Provided currency is not matched in program\")\n",
        "\n",
        "AskFun()\n",
        "#CurrencyConversion(currencyTo, quantity) #call function\n",
        "\n",
        "\n"
      ],
      "metadata": {
        "colab": {
          "base_uri": "https://localhost:8080/"
        },
        "id": "sdZahVngTUZy",
        "outputId": "f6c84b28-446f-40a2-fb10-64c4f64fc2f5"
      },
      "execution_count": 8,
      "outputs": [
        {
          "name": "stdout",
          "output_type": "stream",
          "text": [
            "see the options to convert: \n",
            "{1: 'INR(Indian Rupees)', 2: 'EUR(Euro)', 3: 'AUD(Australian Doller)', 4: 'CAD(Canadian Doller)', 5: 'BRL(Brazilian Real)', 6: 'CHF(Swiss Franc)', 7: 'ILS(Israeli Shekel)', 8: 'JPY(Japanese Yen)', 9: 'KWD(Kuwaiti Dinar)', 10: 'PKR(Pakistani Rupee)'}\n",
            "select the options to convert: 2\n",
            "Enter USD value: 2\n",
            "EUR(Euro)\n",
            "EUR(Euro)\n",
            "1 EUR(Euro) value from USD: 0.93625\n",
            "2 USD converted to EUR(Euro) is 1.87\n",
            "Do you want to convert more?yes\n",
            "Do you want to see the options?yes\n",
            "see the options to convert: \n",
            "{1: 'INR(Indian Rupees)', 2: 'EUR(Euro)', 3: 'AUD(Australian Doller)', 4: 'CAD(Canadian Doller)', 5: 'BRL(Brazilian Real)', 6: 'CHF(Swiss Franc)', 7: 'ILS(Israeli Shekel)', 8: 'JPY(Japanese Yen)', 9: 'KWD(Kuwaiti Dinar)', 10: 'PKR(Pakistani Rupee)'}\n",
            "select the options to convert: 1\n",
            "Enter USD value: 2\n",
            "INR(Indian Rupees)\n",
            "1 INR(Indian Rupees) value from USD: 83.52299\n",
            "2 USD converted to INR(Indian Rupees) is 167.05\n",
            "Do you want to convert more?no\n"
          ]
        }
      ]
    }
  ]
}